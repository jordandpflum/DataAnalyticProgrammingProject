{
 "cells": [
  {
   "cell_type": "code",
   "execution_count": 1,
   "metadata": {},
   "outputs": [
    {
     "name": "stdout",
     "output_type": "stream",
     "text": [
      "Populating the interactive namespace from numpy and matplotlib\n"
     ]
    }
   ],
   "source": [
    "from pandas import Series, DataFrame\n",
    "import pandas as pd\n",
    "%pylab inline\n",
    "import statsmodels.api as sm\n",
    "from patsy import dmatrices\n",
    "import warnings\n",
    "from sklearn.model_selection import train_test_split\n",
    "warnings.filterwarnings('ignore')\n",
    "from sklearn.linear_model import LogisticRegression\n",
    "from sklearn import metrics\n",
    "from sklearn import tree\n"
   ]
  },
  {
   "cell_type": "code",
   "execution_count": 2,
   "metadata": {},
   "outputs": [],
   "source": [
    "import os\n",
    "os.chdir('C:/Users/aura-/MSBA/Data Analytics') "
   ]
  },
  {
   "cell_type": "code",
   "execution_count": 3,
   "metadata": {
    "scrolled": false
   },
   "outputs": [
    {
     "data": {
      "text/html": [
       "<div>\n",
       "<style scoped>\n",
       "    .dataframe tbody tr th:only-of-type {\n",
       "        vertical-align: middle;\n",
       "    }\n",
       "\n",
       "    .dataframe tbody tr th {\n",
       "        vertical-align: top;\n",
       "    }\n",
       "\n",
       "    .dataframe thead th {\n",
       "        text-align: right;\n",
       "    }\n",
       "</style>\n",
       "<table border=\"1\" class=\"dataframe\">\n",
       "  <thead>\n",
       "    <tr style=\"text-align: right;\">\n",
       "      <th></th>\n",
       "      <th>tree_id</th>\n",
       "      <th>block_id</th>\n",
       "      <th>created_at</th>\n",
       "      <th>tree_dbh</th>\n",
       "      <th>stump_diam</th>\n",
       "      <th>curb_loc</th>\n",
       "      <th>status</th>\n",
       "      <th>health</th>\n",
       "      <th>spc_latin</th>\n",
       "      <th>spc_common</th>\n",
       "      <th>...</th>\n",
       "      <th>boro_ct</th>\n",
       "      <th>state</th>\n",
       "      <th>latitude</th>\n",
       "      <th>longitude</th>\n",
       "      <th>x_sp</th>\n",
       "      <th>y_sp</th>\n",
       "      <th>council district</th>\n",
       "      <th>census tract</th>\n",
       "      <th>bin</th>\n",
       "      <th>bbl</th>\n",
       "    </tr>\n",
       "  </thead>\n",
       "  <tbody>\n",
       "    <tr>\n",
       "      <td>0</td>\n",
       "      <td>180683</td>\n",
       "      <td>348711</td>\n",
       "      <td>08/27/2015</td>\n",
       "      <td>3</td>\n",
       "      <td>0</td>\n",
       "      <td>OnCurb</td>\n",
       "      <td>Alive</td>\n",
       "      <td>Fair</td>\n",
       "      <td>Acer rubrum</td>\n",
       "      <td>red maple</td>\n",
       "      <td>...</td>\n",
       "      <td>4073900</td>\n",
       "      <td>New York</td>\n",
       "      <td>40.723092</td>\n",
       "      <td>-73.844215</td>\n",
       "      <td>1.027431e+06</td>\n",
       "      <td>202756.7687</td>\n",
       "      <td>29.0</td>\n",
       "      <td>739.0</td>\n",
       "      <td>4052307.0</td>\n",
       "      <td>4.022210e+09</td>\n",
       "    </tr>\n",
       "    <tr>\n",
       "      <td>1</td>\n",
       "      <td>200540</td>\n",
       "      <td>315986</td>\n",
       "      <td>09/03/2015</td>\n",
       "      <td>21</td>\n",
       "      <td>0</td>\n",
       "      <td>OnCurb</td>\n",
       "      <td>Alive</td>\n",
       "      <td>Fair</td>\n",
       "      <td>Quercus palustris</td>\n",
       "      <td>pin oak</td>\n",
       "      <td>...</td>\n",
       "      <td>4097300</td>\n",
       "      <td>New York</td>\n",
       "      <td>40.794111</td>\n",
       "      <td>-73.818679</td>\n",
       "      <td>1.034456e+06</td>\n",
       "      <td>228644.8374</td>\n",
       "      <td>19.0</td>\n",
       "      <td>973.0</td>\n",
       "      <td>4101931.0</td>\n",
       "      <td>4.044750e+09</td>\n",
       "    </tr>\n",
       "    <tr>\n",
       "      <td>2</td>\n",
       "      <td>204026</td>\n",
       "      <td>218365</td>\n",
       "      <td>09/05/2015</td>\n",
       "      <td>3</td>\n",
       "      <td>0</td>\n",
       "      <td>OnCurb</td>\n",
       "      <td>Alive</td>\n",
       "      <td>Good</td>\n",
       "      <td>Gleditsia triacanthos var. inermis</td>\n",
       "      <td>honeylocust</td>\n",
       "      <td>...</td>\n",
       "      <td>3044900</td>\n",
       "      <td>New York</td>\n",
       "      <td>40.717581</td>\n",
       "      <td>-73.936608</td>\n",
       "      <td>1.001823e+06</td>\n",
       "      <td>200716.8913</td>\n",
       "      <td>34.0</td>\n",
       "      <td>449.0</td>\n",
       "      <td>3338310.0</td>\n",
       "      <td>3.028870e+09</td>\n",
       "    </tr>\n",
       "    <tr>\n",
       "      <td>3</td>\n",
       "      <td>204337</td>\n",
       "      <td>217969</td>\n",
       "      <td>09/05/2015</td>\n",
       "      <td>10</td>\n",
       "      <td>0</td>\n",
       "      <td>OnCurb</td>\n",
       "      <td>Alive</td>\n",
       "      <td>Good</td>\n",
       "      <td>Gleditsia triacanthos var. inermis</td>\n",
       "      <td>honeylocust</td>\n",
       "      <td>...</td>\n",
       "      <td>3044900</td>\n",
       "      <td>New York</td>\n",
       "      <td>40.713537</td>\n",
       "      <td>-73.934456</td>\n",
       "      <td>1.002420e+06</td>\n",
       "      <td>199244.2531</td>\n",
       "      <td>34.0</td>\n",
       "      <td>449.0</td>\n",
       "      <td>3338342.0</td>\n",
       "      <td>3.029250e+09</td>\n",
       "    </tr>\n",
       "    <tr>\n",
       "      <td>4</td>\n",
       "      <td>189565</td>\n",
       "      <td>223043</td>\n",
       "      <td>08/30/2015</td>\n",
       "      <td>21</td>\n",
       "      <td>0</td>\n",
       "      <td>OnCurb</td>\n",
       "      <td>Alive</td>\n",
       "      <td>Good</td>\n",
       "      <td>Tilia americana</td>\n",
       "      <td>American linden</td>\n",
       "      <td>...</td>\n",
       "      <td>3016500</td>\n",
       "      <td>New York</td>\n",
       "      <td>40.666778</td>\n",
       "      <td>-73.975979</td>\n",
       "      <td>9.909138e+05</td>\n",
       "      <td>182202.4260</td>\n",
       "      <td>39.0</td>\n",
       "      <td>165.0</td>\n",
       "      <td>3025654.0</td>\n",
       "      <td>3.010850e+09</td>\n",
       "    </tr>\n",
       "    <tr>\n",
       "      <td>...</td>\n",
       "      <td>...</td>\n",
       "      <td>...</td>\n",
       "      <td>...</td>\n",
       "      <td>...</td>\n",
       "      <td>...</td>\n",
       "      <td>...</td>\n",
       "      <td>...</td>\n",
       "      <td>...</td>\n",
       "      <td>...</td>\n",
       "      <td>...</td>\n",
       "      <td>...</td>\n",
       "      <td>...</td>\n",
       "      <td>...</td>\n",
       "      <td>...</td>\n",
       "      <td>...</td>\n",
       "      <td>...</td>\n",
       "      <td>...</td>\n",
       "      <td>...</td>\n",
       "      <td>...</td>\n",
       "      <td>...</td>\n",
       "      <td>...</td>\n",
       "    </tr>\n",
       "    <tr>\n",
       "      <td>683783</td>\n",
       "      <td>155433</td>\n",
       "      <td>217978</td>\n",
       "      <td>08/18/2015</td>\n",
       "      <td>25</td>\n",
       "      <td>0</td>\n",
       "      <td>OnCurb</td>\n",
       "      <td>Alive</td>\n",
       "      <td>Good</td>\n",
       "      <td>Quercus palustris</td>\n",
       "      <td>pin oak</td>\n",
       "      <td>...</td>\n",
       "      <td>3051900</td>\n",
       "      <td>New York</td>\n",
       "      <td>40.713211</td>\n",
       "      <td>-73.954944</td>\n",
       "      <td>9.967407e+05</td>\n",
       "      <td>199121.6363</td>\n",
       "      <td>34.0</td>\n",
       "      <td>519.0</td>\n",
       "      <td>3062513.0</td>\n",
       "      <td>3.023690e+09</td>\n",
       "    </tr>\n",
       "    <tr>\n",
       "      <td>683784</td>\n",
       "      <td>183795</td>\n",
       "      <td>348185</td>\n",
       "      <td>08/29/2015</td>\n",
       "      <td>7</td>\n",
       "      <td>0</td>\n",
       "      <td>OnCurb</td>\n",
       "      <td>Alive</td>\n",
       "      <td>Good</td>\n",
       "      <td>Cladrastis kentukea</td>\n",
       "      <td>Kentucky yellowwood</td>\n",
       "      <td>...</td>\n",
       "      <td>4070700</td>\n",
       "      <td>New York</td>\n",
       "      <td>40.715194</td>\n",
       "      <td>-73.856650</td>\n",
       "      <td>1.023989e+06</td>\n",
       "      <td>199873.6475</td>\n",
       "      <td>29.0</td>\n",
       "      <td>707.0</td>\n",
       "      <td>4075448.0</td>\n",
       "      <td>4.031810e+09</td>\n",
       "    </tr>\n",
       "    <tr>\n",
       "      <td>683785</td>\n",
       "      <td>166161</td>\n",
       "      <td>401670</td>\n",
       "      <td>08/22/2015</td>\n",
       "      <td>12</td>\n",
       "      <td>0</td>\n",
       "      <td>OnCurb</td>\n",
       "      <td>Alive</td>\n",
       "      <td>Good</td>\n",
       "      <td>Acer rubrum</td>\n",
       "      <td>red maple</td>\n",
       "      <td>...</td>\n",
       "      <td>5020100</td>\n",
       "      <td>New York</td>\n",
       "      <td>40.620762</td>\n",
       "      <td>-74.136517</td>\n",
       "      <td>9.463514e+05</td>\n",
       "      <td>165466.0763</td>\n",
       "      <td>50.0</td>\n",
       "      <td>201.0</td>\n",
       "      <td>5011657.0</td>\n",
       "      <td>5.004080e+09</td>\n",
       "    </tr>\n",
       "    <tr>\n",
       "      <td>683786</td>\n",
       "      <td>184028</td>\n",
       "      <td>504204</td>\n",
       "      <td>08/29/2015</td>\n",
       "      <td>9</td>\n",
       "      <td>0</td>\n",
       "      <td>OnCurb</td>\n",
       "      <td>Alive</td>\n",
       "      <td>Good</td>\n",
       "      <td>Acer rubrum</td>\n",
       "      <td>red maple</td>\n",
       "      <td>...</td>\n",
       "      <td>2023502</td>\n",
       "      <td>New York</td>\n",
       "      <td>40.850828</td>\n",
       "      <td>-73.903115</td>\n",
       "      <td>1.011054e+06</td>\n",
       "      <td>249271.9507</td>\n",
       "      <td>15.0</td>\n",
       "      <td>23502.0</td>\n",
       "      <td>2007757.0</td>\n",
       "      <td>2.028120e+09</td>\n",
       "    </tr>\n",
       "    <tr>\n",
       "      <td>683787</td>\n",
       "      <td>200607</td>\n",
       "      <td>306527</td>\n",
       "      <td>09/03/2015</td>\n",
       "      <td>23</td>\n",
       "      <td>0</td>\n",
       "      <td>OnCurb</td>\n",
       "      <td>Alive</td>\n",
       "      <td>Fair</td>\n",
       "      <td>Acer rubrum</td>\n",
       "      <td>red maple</td>\n",
       "      <td>...</td>\n",
       "      <td>4134100</td>\n",
       "      <td>New York</td>\n",
       "      <td>40.732165</td>\n",
       "      <td>-73.787526</td>\n",
       "      <td>1.043136e+06</td>\n",
       "      <td>206095.5383</td>\n",
       "      <td>24.0</td>\n",
       "      <td>1341.0</td>\n",
       "      <td>4153657.0</td>\n",
       "      <td>4.071360e+09</td>\n",
       "    </tr>\n",
       "  </tbody>\n",
       "</table>\n",
       "<p>683788 rows × 45 columns</p>\n",
       "</div>"
      ],
      "text/plain": [
       "        tree_id  block_id  created_at  tree_dbh  stump_diam curb_loc status  \\\n",
       "0        180683    348711  08/27/2015         3           0   OnCurb  Alive   \n",
       "1        200540    315986  09/03/2015        21           0   OnCurb  Alive   \n",
       "2        204026    218365  09/05/2015         3           0   OnCurb  Alive   \n",
       "3        204337    217969  09/05/2015        10           0   OnCurb  Alive   \n",
       "4        189565    223043  08/30/2015        21           0   OnCurb  Alive   \n",
       "...         ...       ...         ...       ...         ...      ...    ...   \n",
       "683783   155433    217978  08/18/2015        25           0   OnCurb  Alive   \n",
       "683784   183795    348185  08/29/2015         7           0   OnCurb  Alive   \n",
       "683785   166161    401670  08/22/2015        12           0   OnCurb  Alive   \n",
       "683786   184028    504204  08/29/2015         9           0   OnCurb  Alive   \n",
       "683787   200607    306527  09/03/2015        23           0   OnCurb  Alive   \n",
       "\n",
       "       health                           spc_latin           spc_common  ...  \\\n",
       "0        Fair                         Acer rubrum            red maple  ...   \n",
       "1        Fair                   Quercus palustris              pin oak  ...   \n",
       "2        Good  Gleditsia triacanthos var. inermis          honeylocust  ...   \n",
       "3        Good  Gleditsia triacanthos var. inermis          honeylocust  ...   \n",
       "4        Good                     Tilia americana      American linden  ...   \n",
       "...       ...                                 ...                  ...  ...   \n",
       "683783   Good                   Quercus palustris              pin oak  ...   \n",
       "683784   Good                 Cladrastis kentukea  Kentucky yellowwood  ...   \n",
       "683785   Good                         Acer rubrum            red maple  ...   \n",
       "683786   Good                         Acer rubrum            red maple  ...   \n",
       "683787   Fair                         Acer rubrum            red maple  ...   \n",
       "\n",
       "        boro_ct     state   latitude  longitude          x_sp         y_sp  \\\n",
       "0       4073900  New York  40.723092 -73.844215  1.027431e+06  202756.7687   \n",
       "1       4097300  New York  40.794111 -73.818679  1.034456e+06  228644.8374   \n",
       "2       3044900  New York  40.717581 -73.936608  1.001823e+06  200716.8913   \n",
       "3       3044900  New York  40.713537 -73.934456  1.002420e+06  199244.2531   \n",
       "4       3016500  New York  40.666778 -73.975979  9.909138e+05  182202.4260   \n",
       "...         ...       ...        ...        ...           ...          ...   \n",
       "683783  3051900  New York  40.713211 -73.954944  9.967407e+05  199121.6363   \n",
       "683784  4070700  New York  40.715194 -73.856650  1.023989e+06  199873.6475   \n",
       "683785  5020100  New York  40.620762 -74.136517  9.463514e+05  165466.0763   \n",
       "683786  2023502  New York  40.850828 -73.903115  1.011054e+06  249271.9507   \n",
       "683787  4134100  New York  40.732165 -73.787526  1.043136e+06  206095.5383   \n",
       "\n",
       "       council district census tract        bin           bbl  \n",
       "0                  29.0        739.0  4052307.0  4.022210e+09  \n",
       "1                  19.0        973.0  4101931.0  4.044750e+09  \n",
       "2                  34.0        449.0  3338310.0  3.028870e+09  \n",
       "3                  34.0        449.0  3338342.0  3.029250e+09  \n",
       "4                  39.0        165.0  3025654.0  3.010850e+09  \n",
       "...                 ...          ...        ...           ...  \n",
       "683783             34.0        519.0  3062513.0  3.023690e+09  \n",
       "683784             29.0        707.0  4075448.0  4.031810e+09  \n",
       "683785             50.0        201.0  5011657.0  5.004080e+09  \n",
       "683786             15.0      23502.0  2007757.0  2.028120e+09  \n",
       "683787             24.0       1341.0  4153657.0  4.071360e+09  \n",
       "\n",
       "[683788 rows x 45 columns]"
      ]
     },
     "execution_count": 3,
     "metadata": {},
     "output_type": "execute_result"
    }
   ],
   "source": [
    "trees = pd.read_csv('2015_Street_Tree_Census_-_Tree_Data.csv')\n",
    "trees"
   ]
  },
  {
   "cell_type": "code",
   "execution_count": 4,
   "metadata": {},
   "outputs": [],
   "source": [
    "\n",
    "\n",
    "trees['target'] = 0.0\n",
    "trees['target'][trees['status'] == 'Alive'] = 1.0\n",
    "\n"
   ]
  },
  {
   "cell_type": "code",
   "execution_count": null,
   "metadata": {},
   "outputs": [],
   "source": [
    "formula = 'target ~ 0 + tree_dbh + curb_loc + borough + latitude + longitude'\n",
    "\n",
    "Y, X = dmatrices(formula, trees, return_type='dataframe')\n",
    "y = Y['target'].values\n",
    "\n",
    "\n",
    "X_train, X_test, y_train, y_test = train_test_split(X, y, test_size=0.3, random_state=1)\n",
    "\n",
    "model = LogisticRegression()\n",
    "result = model.fit(X_train, y_train)\n"
   ]
  },
  {
   "cell_type": "code",
   "execution_count": null,
   "metadata": {},
   "outputs": [],
   "source": [
    "prediction_train = model.predict(X_train)\n",
    "metrics.accuracy_score(y_train, prediction_train)"
   ]
  },
  {
   "cell_type": "code",
   "execution_count": null,
   "metadata": {},
   "outputs": [],
   "source": [
    "prediction = model.predict(X_test)\n",
    "print(metrics.accuracy_score(y_test, prediction))"
   ]
  },
  {
   "cell_type": "code",
   "execution_count": null,
   "metadata": {},
   "outputs": [],
   "source": [
    "print('Number of positive examples =', len(y_train[y_train==1]))\n",
    "print('Number of negative examples =', len(y_train[y_train==0]))"
   ]
  },
  {
   "cell_type": "code",
   "execution_count": null,
   "metadata": {},
   "outputs": [],
   "source": [
    "positive_examples_in_test = len(y_test[y_test==1])\n",
    "total_examples_in_test = len(y_test)\n",
    "print('Number of examples where baseline is correct =', positive_examples_in_test)\n",
    "print('Baseline accuracy =', positive_examples_in_test * 1.0 / total_examples_in_test)"
   ]
  },
  {
   "cell_type": "code",
   "execution_count": null,
   "metadata": {},
   "outputs": [],
   "source": [
    "Series(model.coef_[0],index=X.columns.values).sort_values(ascending = False)\n"
   ]
  },
  {
   "cell_type": "code",
   "execution_count": 12,
   "metadata": {},
   "outputs": [],
   "source": [
    "alive = trees[trees['status'] == 'Alive']"
   ]
  },
  {
   "cell_type": "code",
   "execution_count": 13,
   "metadata": {},
   "outputs": [],
   "source": [
    "alive['health_target'] = 0.0\n",
    "alive['health_target'][alive['health'] == 'Poor'] = 1.0\n"
   ]
  },
  {
   "cell_type": "code",
   "execution_count": null,
   "metadata": {},
   "outputs": [],
   "source": [
    "formula = 'health_target ~ 0 + tree_dbh + curb_loc + steward + guards + sidewalk + root_grate + \\\n",
    "           root_other + trunk_wire + trnk_light+ trnk_other+ brch_light+ brch_shoe+ brch_other + borough + latitude + longitude'\n",
    "\n",
    "Y, X = dmatrices(formula, alive, return_type='dataframe')\n",
    "y = Y['health_target'].values\n",
    "\n",
    "from sklearn.model_selection import train_test_split\n",
    "X_train, X_test, y_train, y_test = train_test_split(X, y, test_size=0.3, random_state=1)\n",
    "\n",
    "model = LogisticRegression()\n",
    "result = model.fit(X_train, y_train)"
   ]
  },
  {
   "cell_type": "code",
   "execution_count": null,
   "metadata": {},
   "outputs": [],
   "source": [
    "prediction_train = model.predict(X_train)\n",
    "metrics.accuracy_score(y_train, prediction_train)"
   ]
  },
  {
   "cell_type": "code",
   "execution_count": null,
   "metadata": {},
   "outputs": [],
   "source": [
    "prediction = model.predict(X_test)\n",
    "print(metrics.accuracy_score(y_test, prediction))"
   ]
  },
  {
   "cell_type": "code",
   "execution_count": null,
   "metadata": {},
   "outputs": [],
   "source": [
    "print('Number of positive examples =', len(y_train[y_train==1]))\n",
    "print('Number of negative examples =', len(y_train[y_train==0]))"
   ]
  },
  {
   "cell_type": "code",
   "execution_count": null,
   "metadata": {},
   "outputs": [],
   "source": [
    "negative_examples_in_test  = len(y_test[y_test==1])\n",
    "total_examples_in_test = len(y_test)\n",
    "print('Number of examples where baseline is correct =', negative_examples_in_test)\n",
    "print('Baseline accuracy =', negative_examples_in_test * 1.0 / total_examples_in_test)"
   ]
  },
  {
   "cell_type": "code",
   "execution_count": null,
   "metadata": {},
   "outputs": [],
   "source": [
    "Series(model.coef_[0],index=X.columns.values).sort_values(ascending = False)\n"
   ]
  },
  {
   "cell_type": "code",
   "execution_count": 5,
   "metadata": {},
   "outputs": [],
   "source": [
    "\n",
    "Y, X = dmatrices('target ~ 0 + tree_dbh + curb_loc + borough + latitude + longitude', trees, return_type='dataframe')\n",
    "y = Y['target'].values\n",
    "\n",
    "X_train, X_test, y_train, y_test = train_test_split(X, y, test_size=0.3, random_state=1)"
   ]
  },
  {
   "cell_type": "code",
   "execution_count": 6,
   "metadata": {},
   "outputs": [
    {
     "name": "stdout",
     "output_type": "stream",
     "text": [
      "max_depth=1 scores=[0.97909133 0.97943591 0.97946098] avg_score=0.979329407518385\n",
      "max_depth=2 scores=[0.97966168 0.97931056 0.97901598] avg_score=0.9793294063268033\n",
      "max_depth=3 scores=[0.97932949 0.97887183 0.9797869 ] avg_score=0.9793294070208014\n",
      "max_depth=4 scores=[0.97921668 0.97911    0.97963648] avg_score=0.9793210504195616\n",
      "max_depth=5 scores=[0.97929189 0.97928549 0.97935443] avg_score=0.9793106042162586\n"
     ]
    }
   ],
   "source": [
    "from sklearn.model_selection import cross_val_score, StratifiedKFold\n",
    "\n",
    "# Create the folds in the training data\n",
    "kfold = StratifiedKFold(n_splits=3, shuffle=True)\n",
    "\n",
    "# Iterate over max_depth\n",
    "for max_depth in [1, 2, 3, 4, 5]:\n",
    "    test_model = tree.DecisionTreeClassifier(criterion='entropy', max_depth=max_depth)\n",
    "    scores = cross_val_score(test_model, X_train, y_train, cv=kfold)\n",
    "    print('max_depth={} scores={} avg_score={}'.format(max_depth, scores, scores.mean()))"
   ]
  },
  {
   "cell_type": "code",
   "execution_count": 7,
   "metadata": {},
   "outputs": [
    {
     "data": {
      "image/svg+xml": [
       "<?xml version=\"1.0\" encoding=\"UTF-8\" standalone=\"no\"?>\r\n",
       "<!DOCTYPE svg PUBLIC \"-//W3C//DTD SVG 1.1//EN\"\r\n",
       " \"http://www.w3.org/Graphics/SVG/1.1/DTD/svg11.dtd\">\r\n",
       "<!-- Generated by graphviz version 2.38.0 (20140413.2041)\r\n",
       " -->\r\n",
       "<!-- Title: Tree Pages: 1 -->\r\n",
       "<svg width=\"302pt\" height=\"165pt\"\r\n",
       " viewBox=\"0.00 0.00 302.00 165.00\" xmlns=\"http://www.w3.org/2000/svg\" xmlns:xlink=\"http://www.w3.org/1999/xlink\">\r\n",
       "<g id=\"graph0\" class=\"graph\" transform=\"scale(1 1) rotate(0) translate(4 161)\">\r\n",
       "<title>Tree</title>\r\n",
       "<polygon fill=\"white\" stroke=\"none\" points=\"-4,4 -4,-161 298,-161 298,4 -4,4\"/>\r\n",
       "<!-- 0 -->\r\n",
       "<g id=\"node1\" class=\"node\"><title>0</title>\r\n",
       "<polygon fill=\"#43a2e6\" stroke=\"black\" points=\"219.5,-157 67.5,-157 67.5,-89 219.5,-89 219.5,-157\"/>\r\n",
       "<text text-anchor=\"middle\" x=\"143.5\" y=\"-141.8\" font-family=\"Times New Roman,serif\" font-size=\"14.00\">tree_dbh &lt;= 0.5</text>\r\n",
       "<text text-anchor=\"middle\" x=\"143.5\" y=\"-126.8\" font-family=\"Times New Roman,serif\" font-size=\"14.00\">entropy = 0.27</text>\r\n",
       "<text text-anchor=\"middle\" x=\"143.5\" y=\"-111.8\" font-family=\"Times New Roman,serif\" font-size=\"14.00\">samples = 478651</text>\r\n",
       "<text text-anchor=\"middle\" x=\"143.5\" y=\"-96.8\" font-family=\"Times New Roman,serif\" font-size=\"14.00\">value = [22117, 456534]</text>\r\n",
       "</g>\r\n",
       "<!-- 1 -->\r\n",
       "<g id=\"node2\" class=\"node\"><title>1</title>\r\n",
       "<polygon fill=\"#e5833c\" stroke=\"black\" points=\"131,-53 0,-53 0,-0 131,-0 131,-53\"/>\r\n",
       "<text text-anchor=\"middle\" x=\"65.5\" y=\"-37.8\" font-family=\"Times New Roman,serif\" font-size=\"14.00\">entropy = 0.099</text>\r\n",
       "<text text-anchor=\"middle\" x=\"65.5\" y=\"-22.8\" font-family=\"Times New Roman,serif\" font-size=\"14.00\">samples = 12545</text>\r\n",
       "<text text-anchor=\"middle\" x=\"65.5\" y=\"-7.8\" font-family=\"Times New Roman,serif\" font-size=\"14.00\">value = [12384, 161]</text>\r\n",
       "</g>\r\n",
       "<!-- 0&#45;&gt;1 -->\r\n",
       "<g id=\"edge1\" class=\"edge\"><title>0&#45;&gt;1</title>\r\n",
       "<path fill=\"none\" stroke=\"black\" d=\"M116.219,-88.9485C108.744,-79.892 100.636,-70.0682 93.1405,-60.9875\"/>\r\n",
       "<polygon fill=\"black\" stroke=\"black\" points=\"95.808,-58.721 86.743,-53.2367 90.4094,-63.1769 95.808,-58.721\"/>\r\n",
       "<text text-anchor=\"middle\" x=\"84.3626\" y=\"-74.4231\" font-family=\"Times New Roman,serif\" font-size=\"14.00\">True</text>\r\n",
       "</g>\r\n",
       "<!-- 2 -->\r\n",
       "<g id=\"node3\" class=\"node\"><title>2</title>\r\n",
       "<polygon fill=\"#3d9fe6\" stroke=\"black\" points=\"294,-53 149,-53 149,-0 294,-0 294,-53\"/>\r\n",
       "<text text-anchor=\"middle\" x=\"221.5\" y=\"-37.8\" font-family=\"Times New Roman,serif\" font-size=\"14.00\">entropy = 0.146</text>\r\n",
       "<text text-anchor=\"middle\" x=\"221.5\" y=\"-22.8\" font-family=\"Times New Roman,serif\" font-size=\"14.00\">samples = 466106</text>\r\n",
       "<text text-anchor=\"middle\" x=\"221.5\" y=\"-7.8\" font-family=\"Times New Roman,serif\" font-size=\"14.00\">value = [9733, 456373]</text>\r\n",
       "</g>\r\n",
       "<!-- 0&#45;&gt;2 -->\r\n",
       "<g id=\"edge2\" class=\"edge\"><title>0&#45;&gt;2</title>\r\n",
       "<path fill=\"none\" stroke=\"black\" d=\"M170.781,-88.9485C178.256,-79.892 186.364,-70.0682 193.86,-60.9875\"/>\r\n",
       "<polygon fill=\"black\" stroke=\"black\" points=\"196.591,-63.1769 200.257,-53.2367 191.192,-58.721 196.591,-63.1769\"/>\r\n",
       "<text text-anchor=\"middle\" x=\"202.637\" y=\"-74.4231\" font-family=\"Times New Roman,serif\" font-size=\"14.00\">False</text>\r\n",
       "</g>\r\n",
       "</g>\r\n",
       "</svg>\r\n"
      ],
      "text/plain": [
       "<graphviz.files.Source at 0x2883917ad08>"
      ]
     },
     "execution_count": 7,
     "metadata": {},
     "output_type": "execute_result"
    }
   ],
   "source": [
    "model_status = tree.DecisionTreeClassifier(criterion='entropy', max_depth=1)\n",
    "result = model_status.fit(X_train, y_train)\n",
    "\n",
    "\n",
    "import graphviz\n",
    "graphviz.Source(tree.export_graphviz(model_status,\n",
    "                                     out_file=None,\n",
    "                                     feature_names=X.columns.values,\n",
    "                                     filled=True))"
   ]
  },
  {
   "cell_type": "code",
   "execution_count": 9,
   "metadata": {},
   "outputs": [
    {
     "data": {
      "text/plain": [
       "0.9793294070209819"
      ]
     },
     "execution_count": 9,
     "metadata": {},
     "output_type": "execute_result"
    }
   ],
   "source": [
    "prediction_train = model_status.predict(X_train)\n",
    "metrics.accuracy_score(y_train, prediction_train)"
   ]
  },
  {
   "cell_type": "code",
   "execution_count": 10,
   "metadata": {},
   "outputs": [
    {
     "name": "stdout",
     "output_type": "stream",
     "text": [
      "0.979365009725208\n"
     ]
    }
   ],
   "source": [
    "prediction = model_status.predict(X_test)\n",
    "print(metrics.accuracy_score(y_test, prediction))"
   ]
  },
  {
   "cell_type": "code",
   "execution_count": 21,
   "metadata": {},
   "outputs": [],
   "source": [
    "formula = 'health_target ~ 0 + tree_dbh + curb_loc + steward + guards + sidewalk + root_grate + \\\n",
    "           root_other + trunk_wire + trnk_light+ trnk_other+ brch_light+ brch_shoe+ brch_other + borough + latitude + longitude'\n",
    "\n",
    "Y, X = dmatrices(formula, alive, return_type='dataframe')\n",
    "y = Y['health_target'].values\n",
    "X_train, X_test, y_train, y_test = train_test_split(X, y, test_size=0.3, random_state=1)"
   ]
  },
  {
   "cell_type": "code",
   "execution_count": 22,
   "metadata": {},
   "outputs": [
    {
     "name": "stdout",
     "output_type": "stream",
     "text": [
      "max_depth=1 scores=[0.95887602 0.95887575 0.95888205] avg_score=0.9588779437570638\n",
      "max_depth=2 scores=[0.95887602 0.95887575 0.95888205] avg_score=0.9588779437570638\n",
      "max_depth=3 scores=[0.95887602 0.95887575 0.95888205] avg_score=0.9588779437570638\n",
      "max_depth=4 scores=[0.95887602 0.95887575 0.95888205] avg_score=0.9588779437570638\n",
      "max_depth=5 scores=[0.95888259 0.95886918 0.95884263] avg_score=0.9588648007202997\n"
     ]
    }
   ],
   "source": [
    "kfold = StratifiedKFold(n_splits=3, shuffle=True)\n",
    "\n",
    "# Iterate over max_depth\n",
    "for max_depth in [1, 2, 3, 4, 5]:\n",
    "    model_health_test = tree.DecisionTreeClassifier(criterion='entropy', max_depth=max_depth)\n",
    "    scores = cross_val_score(model_health_test, X_train, y_train, cv=kfold)\n",
    "    print('max_depth={} scores={} avg_score={}'.format(max_depth, scores, scores.mean()))"
   ]
  },
  {
   "cell_type": "code",
   "execution_count": 23,
   "metadata": {},
   "outputs": [
    {
     "data": {
      "image/svg+xml": [
       "<?xml version=\"1.0\" encoding=\"UTF-8\" standalone=\"no\"?>\r\n",
       "<!DOCTYPE svg PUBLIC \"-//W3C//DTD SVG 1.1//EN\"\r\n",
       " \"http://www.w3.org/Graphics/SVG/1.1/DTD/svg11.dtd\">\r\n",
       "<!-- Generated by graphviz version 2.38.0 (20140413.2041)\r\n",
       " -->\r\n",
       "<!-- Title: Tree Pages: 1 -->\r\n",
       "<svg width=\"316pt\" height=\"165pt\"\r\n",
       " viewBox=\"0.00 0.00 316.00 165.00\" xmlns=\"http://www.w3.org/2000/svg\" xmlns:xlink=\"http://www.w3.org/1999/xlink\">\r\n",
       "<g id=\"graph0\" class=\"graph\" transform=\"scale(1 1) rotate(0) translate(4 161)\">\r\n",
       "<title>Tree</title>\r\n",
       "<polygon fill=\"white\" stroke=\"none\" points=\"-4,4 -4,-161 312,-161 312,4 -4,4\"/>\r\n",
       "<!-- 0 -->\r\n",
       "<g id=\"node1\" class=\"node\"><title>0</title>\r\n",
       "<polygon fill=\"#e68641\" stroke=\"black\" points=\"238.5,-157 75.5,-157 75.5,-89 238.5,-89 238.5,-157\"/>\r\n",
       "<text text-anchor=\"middle\" x=\"157\" y=\"-141.8\" font-family=\"Times New Roman,serif\" font-size=\"14.00\">brch_other[T.Yes] &lt;= 0.5</text>\r\n",
       "<text text-anchor=\"middle\" x=\"157\" y=\"-126.8\" font-family=\"Times New Roman,serif\" font-size=\"14.00\">entropy = 0.247</text>\r\n",
       "<text text-anchor=\"middle\" x=\"157\" y=\"-111.8\" font-family=\"Times New Roman,serif\" font-size=\"14.00\">samples = 456519</text>\r\n",
       "<text text-anchor=\"middle\" x=\"157\" y=\"-96.8\" font-family=\"Times New Roman,serif\" font-size=\"14.00\">value = [437746, 18773]</text>\r\n",
       "</g>\r\n",
       "<!-- 1 -->\r\n",
       "<g id=\"node2\" class=\"node\"><title>1</title>\r\n",
       "<polygon fill=\"#e68641\" stroke=\"black\" points=\"152,-53 0,-53 0,-0 152,-0 152,-53\"/>\r\n",
       "<text text-anchor=\"middle\" x=\"76\" y=\"-37.8\" font-family=\"Times New Roman,serif\" font-size=\"14.00\">entropy = 0.228</text>\r\n",
       "<text text-anchor=\"middle\" x=\"76\" y=\"-22.8\" font-family=\"Times New Roman,serif\" font-size=\"14.00\">samples = 439404</text>\r\n",
       "<text text-anchor=\"middle\" x=\"76\" y=\"-7.8\" font-family=\"Times New Roman,serif\" font-size=\"14.00\">value = [423173, 16231]</text>\r\n",
       "</g>\r\n",
       "<!-- 0&#45;&gt;1 -->\r\n",
       "<g id=\"edge1\" class=\"edge\"><title>0&#45;&gt;1</title>\r\n",
       "<path fill=\"none\" stroke=\"black\" d=\"M128.67,-88.9485C120.907,-79.892 112.487,-70.0682 104.704,-60.9875\"/>\r\n",
       "<polygon fill=\"black\" stroke=\"black\" points=\"107.225,-58.5515 98.06,-53.2367 101.911,-63.1071 107.225,-58.5515\"/>\r\n",
       "<text text-anchor=\"middle\" x=\"96.1426\" y=\"-74.4631\" font-family=\"Times New Roman,serif\" font-size=\"14.00\">True</text>\r\n",
       "</g>\r\n",
       "<!-- 2 -->\r\n",
       "<g id=\"node3\" class=\"node\"><title>2</title>\r\n",
       "<polygon fill=\"#ea975c\" stroke=\"black\" points=\"308,-53 170,-53 170,-0 308,-0 308,-53\"/>\r\n",
       "<text text-anchor=\"middle\" x=\"239\" y=\"-37.8\" font-family=\"Times New Roman,serif\" font-size=\"14.00\">entropy = 0.606</text>\r\n",
       "<text text-anchor=\"middle\" x=\"239\" y=\"-22.8\" font-family=\"Times New Roman,serif\" font-size=\"14.00\">samples = 17115</text>\r\n",
       "<text text-anchor=\"middle\" x=\"239\" y=\"-7.8\" font-family=\"Times New Roman,serif\" font-size=\"14.00\">value = [14573, 2542]</text>\r\n",
       "</g>\r\n",
       "<!-- 0&#45;&gt;2 -->\r\n",
       "<g id=\"edge2\" class=\"edge\"><title>0&#45;&gt;2</title>\r\n",
       "<path fill=\"none\" stroke=\"black\" d=\"M185.68,-88.9485C193.538,-79.892 202.062,-70.0682 209.942,-60.9875\"/>\r\n",
       "<polygon fill=\"black\" stroke=\"black\" points=\"212.757,-63.0835 216.668,-53.2367 207.47,-58.4958 212.757,-63.0835\"/>\r\n",
       "<text text-anchor=\"middle\" x=\"218.434\" y=\"-74.4742\" font-family=\"Times New Roman,serif\" font-size=\"14.00\">False</text>\r\n",
       "</g>\r\n",
       "</g>\r\n",
       "</svg>\r\n"
      ],
      "text/plain": [
       "<graphviz.files.Source at 0x28839281b08>"
      ]
     },
     "execution_count": 23,
     "metadata": {},
     "output_type": "execute_result"
    }
   ],
   "source": [
    "model_health = tree.DecisionTreeClassifier(criterion='entropy', max_depth=1)\n",
    "result = model_health.fit(X_train, y_train)\n",
    "\n",
    "graphviz.Source(tree.export_graphviz(model_health,\n",
    "                                     out_file=None,\n",
    "                                     feature_names=X.columns.values,\n",
    "                                     filled=True))"
   ]
  },
  {
   "cell_type": "code",
   "execution_count": null,
   "metadata": {},
   "outputs": [],
   "source": []
  }
 ],
 "metadata": {
  "kernelspec": {
   "display_name": "Python 3",
   "language": "python",
   "name": "python3"
  },
  "language_info": {
   "codemirror_mode": {
    "name": "ipython",
    "version": 3
   },
   "file_extension": ".py",
   "mimetype": "text/x-python",
   "name": "python",
   "nbconvert_exporter": "python",
   "pygments_lexer": "ipython3",
   "version": "3.7.4"
  }
 },
 "nbformat": 4,
 "nbformat_minor": 2
}
